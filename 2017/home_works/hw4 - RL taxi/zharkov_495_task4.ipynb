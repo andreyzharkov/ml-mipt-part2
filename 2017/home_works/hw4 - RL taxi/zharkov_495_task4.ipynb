{
 "cells": [
  {
   "cell_type": "markdown",
   "metadata": {},
   "source": [
    "## Alternative assignment\n",
    "\n",
    "Here you can find an alternative assignment notebook which does not require py2 or a physical screen.\n",
    "\n",
    "For starters, please go to __qlearning.py__ file in the current folder and implement q-learning agent by following instructions in the file."
   ]
  },
  {
   "cell_type": "code",
   "execution_count": 1,
   "metadata": {
    "collapsed": false
   },
   "outputs": [
    {
     "name": "stderr",
     "output_type": "stream",
     "text": [
      "\"bash\" ­Ґ пў«пҐвбп ў­гваҐ­­Ґ© Ё«Ё ў­Ґи­Ґ©\n",
      "Є®¬ ­¤®©, ЁбЇ®«­пҐ¬®© Їа®Ја ¬¬®© Ё«Ё Ї ЄҐв­л¬ д ©«®¬.\n"
     ]
    },
    {
     "name": "stdout",
     "output_type": "stream",
     "text": [
      "env: DISPLAY=:1\n"
     ]
    }
   ],
   "source": [
    "#XVFB will be launched if you run on a server\n",
    "import os\n",
    "if type(os.environ.get(\"DISPLAY\")) is not str or len(os.environ.get(\"DISPLAY\"))==0:\n",
    "    !bash ../xvfb start\n",
    "    %env DISPLAY=:1\n",
    "\n",
    "import numpy as np\n",
    "import matplotlib.pyplot as plt\n",
    "%matplotlib inline\n",
    "from IPython.display import clear_output"
   ]
  },
  {
   "cell_type": "markdown",
   "metadata": {},
   "source": [
    "### Demo on taxi\n",
    "\n",
    "Here we use the qlearning agent from before on taxi env from openai gym.\n",
    "You will need to insert a few agent functions here."
   ]
  },
  {
   "cell_type": "code",
   "execution_count": 2,
   "metadata": {
    "collapsed": false
   },
   "outputs": [],
   "source": [
    "import gym\n",
    "env = gym.make(\"Taxi-v2\")\n",
    "\n",
    "n_actions = env.action_space.n"
   ]
  },
  {
   "cell_type": "code",
   "execution_count": 4,
   "metadata": {
    "collapsed": true
   },
   "outputs": [],
   "source": [
    "import random,math\n",
    "\n",
    "import numpy as np\n",
    "from collections import defaultdict\n",
    "\n",
    "class QLearningAgent():\n",
    "  \"\"\"\n",
    "    Q-Learning Agent\n",
    "\n",
    "    Instance variables you have access to\n",
    "      - self.epsilon (exploration prob)\n",
    "      - self.alpha (learning rate)\n",
    "      - self.discount (discount rate aka gamma)\n",
    "\n",
    "    Functions you should use\n",
    "      - self.getLegalActions(state)\n",
    "        which returns legal actions for a state\n",
    "      - self.getQValue(state,action)\n",
    "        which returns Q(state,action)\n",
    "      - self.setQValue(state,action,value)\n",
    "        which sets Q(state,action) := value\n",
    "    \n",
    "    !!!Important!!!\n",
    "    NOTE: please avoid using self._qValues directly to make code cleaner\n",
    "  \"\"\"\n",
    "  def __init__(self,alpha,epsilon,discount,getLegalActions):\n",
    "    \"We initialize agent and Q-values here.\"\n",
    "    self.getLegalActions= getLegalActions\n",
    "    self._qValues = defaultdict(lambda:defaultdict(lambda:0))\n",
    "    self.alpha = alpha\n",
    "    self.epsilon = epsilon\n",
    "    self.discount = discount\n",
    "\n",
    "  def getQValue(self, state, action):\n",
    "    \"\"\"\n",
    "      Returns Q(state,action)\n",
    "    \"\"\"\n",
    "    return self._qValues[state][action]\n",
    "\n",
    "  def setQValue(self,state,action,value):\n",
    "    \"\"\"\n",
    "      Sets the Qvalue for [state,action] to the given value\n",
    "    \"\"\"\n",
    "    self._qValues[state][action] = value\n",
    "\n",
    "#---------------------#start of your code#---------------------#\n",
    "\n",
    "  def getValue(self, state):\n",
    "    \"\"\"\n",
    "      Returns max_action Q(state,action)\n",
    "      where the max is over legal actions.\n",
    "    \"\"\"\n",
    "    \n",
    "    possibleActions = self.getLegalActions(state)\n",
    "    #If there are no legal actions, return 0.0\n",
    "    if len(possibleActions) == 0:\n",
    "    \treturn 0.0\n",
    "\n",
    "    \"*** YOUR CODE HERE ***\"\n",
    "    return max(map(lambda action: self.getQValue(state, action), possibleActions))\n",
    "    \n",
    "  def getPolicy(self, state):\n",
    "    \"\"\"\n",
    "      Compute the best action to take in a state. \n",
    "      \n",
    "    \"\"\"\n",
    "    possibleActions = self.getLegalActions(state)\n",
    "\n",
    "    #If there are no legal actions, return None\n",
    "    if len(possibleActions) == 0:\n",
    "    \treturn None\n",
    "    \n",
    "    best_action = None\n",
    "\n",
    "    \"*** YOUR CODE HERE ***\"\n",
    "    best_action = possibleActions[np.argmax(list(map(lambda action: self.getQValue(state, action), possibleActions)))]\n",
    "    return best_action\n",
    "\n",
    "  def getAction(self, state):\n",
    "    \"\"\"\n",
    "      Compute the action to take in the current state, including exploration.  \n",
    "      \n",
    "      With probability self.epsilon, we should take a random action.\n",
    "      otherwise - the best policy action (self.getPolicy).\n",
    "\n",
    "      HINT: You might want to use util.flipCoin(prob)\n",
    "      HINT: To pick randomly from a list, use random.choice(list)\n",
    "\n",
    "    \"\"\"\n",
    "    \n",
    "    # Pick Action\n",
    "    possibleActions = self.getLegalActions(state)\n",
    "    action = None\n",
    "    \n",
    "    #If there are no legal actions, return None\n",
    "    if len(possibleActions) == 0:\n",
    "    \treturn None\n",
    "\n",
    "    #agent parameters:\n",
    "    epsilon = self.epsilon\n",
    "\n",
    "    \"*** YOUR CODE HERE ***\"\n",
    "    random_action = possibleActions[np.random.randint(0, len(possibleActions))]\n",
    "    return random_action if np.random.uniform() < self.epsilon else self.getPolicy(state)\n",
    "\n",
    "  def update(self, state, action, nextState, reward):\n",
    "    \"\"\"\n",
    "      You should do your Q-Value update here\n",
    "\n",
    "      NOTE: You should never call this function,\n",
    "      it will be called on your behalf\n",
    "\n",
    "\n",
    "    \"\"\"\n",
    "    #agent parameters\n",
    "    gamma = self.discount\n",
    "    learning_rate = self.alpha\n",
    "    \n",
    "    \"*** YOUR CODE HERE ***\"    \n",
    "    reference_qvalue = gamma * self.getValue(nextState) + reward\n",
    "    \n",
    "    updated_qvalue = (1-learning_rate) * self.getQValue(state,action) + learning_rate * reference_qvalue\n",
    "    self.setQValue(state,action,updated_qvalue)\n",
    "\n",
    "\n",
    "#---------------------#end of your code#---------------------#"
   ]
  },
  {
   "cell_type": "code",
   "execution_count": null,
   "metadata": {
    "collapsed": true
   },
   "outputs": [],
   "source": []
  },
  {
   "cell_type": "code",
   "execution_count": null,
   "metadata": {
    "collapsed": true
   },
   "outputs": [],
   "source": []
  },
  {
   "cell_type": "code",
   "execution_count": 48,
   "metadata": {
    "collapsed": false
   },
   "outputs": [],
   "source": [
    "#from qlearning import QLearningAgent\n",
    "\n",
    "agent = QLearningAgent(alpha=0.5,epsilon=0.5,discount=0.89,\n",
    "                       getLegalActions = lambda s: range(n_actions))"
   ]
  },
  {
   "cell_type": "code",
   "execution_count": 49,
   "metadata": {
    "collapsed": false
   },
   "outputs": [],
   "source": [
    "def play_and_train(env,agent,t_max=10**4):\n",
    "    \"\"\"This function should \n",
    "    - run a full game, actions given by agent.getAction(s)\n",
    "    - train agent using agent.update(...) whenever possible\n",
    "    - return total reward\"\"\"\n",
    "    total_reward = 0.0\n",
    "    s = env.reset()\n",
    "    \n",
    "    for t in range(t_max):\n",
    "        a = agent.getAction(s)\n",
    "        \n",
    "        next_s,r,done,_ = env.step(a)\n",
    "        \n",
    "        agent.update(s, a, next_s, r)\n",
    "        \n",
    "        s = next_s\n",
    "        total_reward +=r\n",
    "        if done:break\n",
    "        \n",
    "    return total_reward"
   ]
  },
  {
   "cell_type": "code",
   "execution_count": 51,
   "metadata": {
    "collapsed": false
   },
   "outputs": [
    {
     "name": "stdout",
     "output_type": "stream",
     "text": [
      "5.000000000000002e-10\n",
      "8.465\n"
     ]
    },
    {
     "data": {
      "image/png": "[encoded data removed]",
      "text/plain": [
       "<matplotlib.figure.Figure at 0x21623fdcef0>"
      ]
     },
     "metadata": {},
     "output_type": "display_data"
    }
   ],
   "source": [
    "rewards = []\n",
    "n_epochs = 10\n",
    "for j in range(n_epochs):\n",
    "    if agent.epsilon > 1e-9:\n",
    "        agent.epsilon *= 1e-1\n",
    "    agent.discount += 1e-2\n",
    "    \n",
    "    for i in range(5000):\n",
    "        rewards.append(play_and_train(env,agent))\n",
    "\n",
    "        if i % 1000 == 0:\n",
    "            clear_output(True)\n",
    "            print(agent.epsilon)\n",
    "            print(np.mean(rewards))\n",
    "            plt.plot(rewards)\n",
    "            plt.show()\n",
    "            rewards = []"
   ]
  },
  {
   "cell_type": "code",
   "execution_count": null,
   "metadata": {
    "collapsed": true
   },
   "outputs": [],
   "source": []
  }
 ],
 "metadata": {
  "kernelspec": {
   "display_name": "Python [Root]",
   "language": "python",
   "name": "Python [Root]"
  },
  "language_info": {
   "codemirror_mode": {
    "name": "ipython",
    "version": 3
   },
   "file_extension": ".py",
   "mimetype": "text/x-python",
   "name": "python",
   "nbconvert_exporter": "python",
   "pygments_lexer": "ipython3",
   "version": "3.5.2"
  }
 },
 "nbformat": 4,
 "nbformat_minor": 0
}
